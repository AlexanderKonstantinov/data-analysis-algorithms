{
 "cells": [
  {
   "cell_type": "code",
   "execution_count": 1,
   "metadata": {},
   "outputs": [],
   "source": [
    "import numpy as np\n",
    "import matplotlib.pyplot as plt\n",
    "\n",
    "from time import time\n",
    "from IPython.display import clear_output"
   ]
  },
  {
   "cell_type": "markdown",
   "metadata": {},
   "source": [
    "# Урок 3. Классификация. Логистическая регрессия"
   ]
  },
  {
   "cell_type": "code",
   "execution_count": 2,
   "metadata": {},
   "outputs": [],
   "source": [
    "def calc_std_feat(x):\n",
    "    res = (x - x.mean()) / x.std()\n",
    "    return res"
   ]
  },
  {
   "cell_type": "code",
   "execution_count": 3,
   "metadata": {},
   "outputs": [],
   "source": [
    "X = np.array([[1, 1, 1, 1, 1, 1, 1, 1, 1, 1],\n",
    "              [1, 1, 2, 5, 3, 0, 5, 10, 1, 2],\n",
    "              [500, 700, 750, 600, 1450, 800, 1500, 2000, 450, 1000],\n",
    "              [1, 1, 2, 1, 2,  1, 3, 3, 1, 2]], dtype = np.float64)\n",
    "y = np.array([0, 0, 1, 0, 1, 0, 1, 0, 1, 1], dtype = np.float64)\n",
    "\n",
    "X_st = X.copy()\n",
    "X_st[2, :] = calc_std_feat(X[2, :])"
   ]
  },
  {
   "cell_type": "markdown",
   "metadata": {},
   "source": [
    "### 1*. Измените функцию calc_logloss так, чтобы нули по возможности не попадали в np.log."
   ]
  },
  {
   "cell_type": "markdown",
   "metadata": {},
   "source": [
    "#### Чтобы попал 0, y_pred должен равняться либо 0, либо 1. Т. е. в функции sigmoid np.exp должна возвращать либо 0, либо бесконечность. Второе маловероятно. \n",
    "#### Для борьбы с первым возникла идея изменить np.log(1.0 - y_pred) -> np.log(1.1 - y_pred). Или можно использовать ещё более меньшее число, например 1 + 1e-8. Это должно решить проблему, так как sigmoid не может вернуть число больше 1."
   ]
  },
  {
   "cell_type": "code",
   "execution_count": 4,
   "metadata": {},
   "outputs": [],
   "source": [
    "def calc_logloss(y, y_pred):\n",
    "    err = - np.mean(y * np.log(y_pred) + (1.0 - y) * np.log(1.0 - y_pred))\n",
    "    err = np.sum(err)\n",
    "    return err"
   ]
  },
  {
   "cell_type": "markdown",
   "metadata": {},
   "source": [
    "### 2. Подберите аргументы функции eval_model для логистической регрессии таким образом, чтобы log loss был минимальным."
   ]
  },
  {
   "cell_type": "code",
   "execution_count": 5,
   "metadata": {},
   "outputs": [],
   "source": [
    "def sigmoid(z):\n",
    "    res = 1 / (1 + np.exp(-z))\n",
    "    return res"
   ]
  },
  {
   "cell_type": "code",
   "execution_count": 6,
   "metadata": {},
   "outputs": [],
   "source": [
    "def eval_model(X, y, iterations, alpha):\n",
    "    np.random.seed(42)\n",
    "    W = np.random.randn(X.shape[0])\n",
    "    n = X.shape[1]\n",
    "    for i in range(1, iterations + 1):\n",
    "        z = np.dot(W, X)\n",
    "        y_pred = sigmoid(z)\n",
    "        err = calc_logloss(y, y_pred)\n",
    "        W -= alpha * (1 / n * np.dot((y_pred - y), X.T))\n",
    "        \n",
    "    return W, err"
   ]
  },
  {
   "cell_type": "code",
   "execution_count": 7,
   "metadata": {},
   "outputs": [
    {
     "name": "stdout",
     "output_type": "stream",
     "text": [
      "iteration\talpha\terror\t\t\ttime\n",
      "19900\t\t0.1\t0.1937203847727001\t1.0218040943145752\n"
     ]
    }
   ],
   "source": [
    "iter_alpha_err_time = []\n",
    "\n",
    "for i in range(1000, 20000, 100):        \n",
    "    for alpha in [10 ** d for d in range(-10, 0, 1)]:\n",
    "        start = time()\n",
    "        W, err = eval_model(X_st, y, i, alpha)  \n",
    "        time_interval = time() - start\n",
    "        \n",
    "        iter_alpha_err_time.append([i, alpha, err, time_interval])\n",
    "        \n",
    "        clear_output(wait=True)\n",
    "        \n",
    "        print('iteration\\talpha\\terror\\t\\t\\ttime')\n",
    "        print(f'{i}\\t\\t{alpha}\\t{err}\\t{time_interval}')\n",
    "        "
   ]
  },
  {
   "cell_type": "code",
   "execution_count": 8,
   "metadata": {},
   "outputs": [
    {
     "name": "stdout",
     "output_type": "stream",
     "text": [
      "iteration\talpha\terror\t\t\ttime\n",
      "19900\t\t0.1\t0.1937203847727001\t1.0218040943145752\n",
      "19800\t\t0.1\t0.19400727316663863\t1.2761449813842773\n",
      "19700\t\t0.1\t0.19429560076636448\t1.1364946365356445\n",
      "19600\t\t0.1\t0.19458537971942252\t1.0699796676635742\n",
      "19500\t\t0.1\t0.19487662234237701\t1.179612398147583\n",
      "19400\t\t0.1\t0.1951693411245076\t1.1539998054504395\n",
      "19300\t\t0.1\t0.1954635487316123\t0.9777884483337402\n",
      "19200\t\t0.1\t0.19575925800992838\t1.0015418529510498\n",
      "19100\t\t0.1\t0.19605648199016756\t0.9711663722991943\n",
      "19000\t\t0.1\t0.19635523389167628\t1.0290813446044922\n",
      "18900\t\t0.1\t0.19665552712672207\t1.0574977397918701\n"
     ]
    }
   ],
   "source": [
    "ten_min_err_params = sorted(iter_alpha_err_time, key=lambda row: row[2])[:11]\n",
    "\n",
    "print('iteration\\talpha\\terror\\t\\t\\ttime')\n",
    "for row in ten_min_err_params:\n",
    "    print(f'{row[0]}\\t\\t{row[1]}\\t{row[2]}\\t{row[3]}')"
   ]
  },
  {
   "cell_type": "code",
   "execution_count": 9,
   "metadata": {},
   "outputs": [
    {
     "name": "stdout",
     "output_type": "stream",
     "text": [
      "[-15.38680533  -1.7778509   -3.81676861  12.88454344]\n"
     ]
    }
   ],
   "source": [
    "# Инициализация весов, дающих минимальную ошибку\n",
    "iterations, alpha, _, __ = ten_min_err_params[0]\n",
    "W, err = eval_model(X_st, y, iterations, alpha)\n",
    "\n",
    "print(W)"
   ]
  },
  {
   "cell_type": "markdown",
   "metadata": {},
   "source": [
    "### 3. Создайте функцию calc_pred_proba, возвращающую предсказанную вероятность класса 1 (на вход подаются W, который уже посчитан функцией eval_model и X, на выходе - массив y_pred_proba)."
   ]
  },
  {
   "cell_type": "code",
   "execution_count": 10,
   "metadata": {},
   "outputs": [],
   "source": [
    "def calc_pred_proba(W, X):\n",
    "\n",
    "    m = X.shape[1]    \n",
    "    W = W.reshape(X.shape[0], 1)\n",
    "    \n",
    "    y_pred_proba = sigmoid(np.dot(W.T, X))[0]\n",
    "    \n",
    "    return y_pred_proba"
   ]
  },
  {
   "cell_type": "code",
   "execution_count": 11,
   "metadata": {},
   "outputs": [
    {
     "data": {
      "text/plain": [
       "[0.37, 0.11, 1.0, 0.0, 0.79, 0.25, 1.0, 0.07, 0.46, 1.0]"
      ]
     },
     "execution_count": 11,
     "metadata": {},
     "output_type": "execute_result"
    }
   ],
   "source": [
    "y_pred_proba = [round(p, 2) for p in calc_pred_proba(W, X_st)]\n",
    "\n",
    "y_pred_proba"
   ]
  },
  {
   "cell_type": "markdown",
   "metadata": {},
   "source": [
    "### 4. Создайте функцию calc_pred, возвращающую предсказанный класс (на вход подаются W, который уже посчитан функцией eval_model и X, на выходе - массив y_pred)."
   ]
  },
  {
   "cell_type": "code",
   "execution_count": 12,
   "metadata": {},
   "outputs": [],
   "source": [
    "def calc_pred(W, X, threshold):\n",
    "    \n",
    "    y_pred_proba = calc_pred_proba(W, X)\n",
    "    \n",
    "    y_pred = [int(p >= threshold) for p in y_pred_proba]\n",
    "    \n",
    "    return y_pred"
   ]
  },
  {
   "cell_type": "code",
   "execution_count": 13,
   "metadata": {},
   "outputs": [],
   "source": [
    "# Определение предсказанных значений\n",
    "y_pred = calc_pred(W, X_st, 0.5)"
   ]
  },
  {
   "cell_type": "markdown",
   "metadata": {},
   "source": [
    "### 5. Посчитайте Accuracy, матрицу ошибок, точность и полноту, а также F1 score."
   ]
  },
  {
   "cell_type": "code",
   "execution_count": 14,
   "metadata": {},
   "outputs": [],
   "source": [
    "m = len(y_pred)\n",
    "indexes = range(0, m)\n",
    "\n",
    "# Accuracy\n",
    "accuracy = sum(y_pred[i] == y[i] for i in indexes) / m\n",
    "\n",
    "# Матрица ошибок\n",
    "TP = sum(y_pred[i] == 1 and y[i] == 1 for i in indexes)\n",
    "FP = sum(y_pred[i] == 1 and y[i] == 0 for i in indexes)\n",
    "\n",
    "FN = sum(y_pred[i] == 0 and y[i] == 1 for i in indexes)\n",
    "TN = sum(y_pred[i] == 0 and y[i] == 0 for i in indexes)\n",
    "\n",
    "# Точность и полнота\n",
    "precision = TP / (TP + FP)\n",
    "recall = TP / (TP + FN)\n",
    "\n",
    "# F-мера\n",
    "F_metric = lambda p, r, b: (1 + b ** 2) * (precision * recall) / (b ** 2 * precision + recall)\n",
    "F1 = F_metric(precision, recall, 1)"
   ]
  },
  {
   "cell_type": "code",
   "execution_count": 15,
   "metadata": {},
   "outputs": [
    {
     "name": "stdout",
     "output_type": "stream",
     "text": [
      "\n",
      "\n",
      "y:\t[0. 0. 1. 0. 1. 0. 1. 0. 1. 1.]\n",
      "y_pred:\t[0, 0, 1, 0, 1, 0, 1, 0, 0, 1]\n",
      "\n",
      "Матрица ошибок\n",
      "\t\ty = +1\t\ty = -1\n",
      "a(x) = +1\t4\t\t0\n",
      "a(x) = -1\t1\t\t5\n",
      "\n",
      "Accuracy = 0.9\n",
      "Точность = 1.0\n",
      "Полнота = 0.8\n",
      "F-мера с весом 1 = 0.89\n",
      "\n"
     ]
    }
   ],
   "source": [
    "print(f'''\n",
    "\n",
    "y:\\t{y}\n",
    "y_pred:\\t{y_pred}\n",
    "\n",
    "Матрица ошибок\n",
    "\\t\\ty = +1\\t\\ty = -1\n",
    "a(x) = +1\\t{TP}\\t\\t{FP}\n",
    "a(x) = -1\\t{FN}\\t\\t{TN}\n",
    "\n",
    "Accuracy = {accuracy}\n",
    "Точность = {precision}\n",
    "Полнота = {recall}\n",
    "F-мера с весом 1 = {F1:.2f}\n",
    "''')"
   ]
  },
  {
   "cell_type": "markdown",
   "metadata": {},
   "source": [
    "### 6. Могла ли модель переобучиться? Почему?"
   ]
  },
  {
   "cell_type": "markdown",
   "metadata": {},
   "source": [
    "#### Модель переобучилась из-за большого последнего веса. Это случилось по причине малого количества данных."
   ]
  }
 ],
 "metadata": {
  "kernelspec": {
   "display_name": "Python 3",
   "language": "python",
   "name": "python3"
  },
  "language_info": {
   "codemirror_mode": {
    "name": "ipython",
    "version": 3
   },
   "file_extension": ".py",
   "mimetype": "text/x-python",
   "name": "python",
   "nbconvert_exporter": "python",
   "pygments_lexer": "ipython3",
   "version": "3.7.6"
  }
 },
 "nbformat": 4,
 "nbformat_minor": 4
}
