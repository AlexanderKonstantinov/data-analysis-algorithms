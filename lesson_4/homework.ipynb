{
 "cells": [
  {
   "cell_type": "code",
   "execution_count": 1,
   "metadata": {},
   "outputs": [],
   "source": [
    "import matplotlib.pyplot as plt\n",
    "import random\n",
    "\n",
    "from matplotlib.colors import ListedColormap\n",
    "from sklearn import datasets\n",
    "from sklearn import model_selection\n",
    "from graphviz import Digraph\n",
    "\n",
    "import numpy as np"
   ]
  },
  {
   "cell_type": "markdown",
   "metadata": {},
   "source": [
    "# Урок 4. Алгоритм построения дерева решений"
   ]
  },
  {
   "cell_type": "code",
   "execution_count": 2,
   "metadata": {},
   "outputs": [],
   "source": [
    "# Класс узла\n",
    "class Node:\n",
    "    \n",
    "    def __init__(self, index, t, true_branch, false_branch):\n",
    "        self.index = index  # индекс признака, по которому ведется сравнение с порогом в этом узле\n",
    "        self.t = t  # значение порога\n",
    "        self.true_branch = true_branch  # поддерево, удовлетворяющее условию в узле\n",
    "        self.false_branch = false_branch  # поддерево, не удовлетворяющее условию в узле\n",
    "\n",
    "    def __str__(self):\n",
    "        return f'Признак: {self.index}\\nПорог: {self.t:.2f}'\n",
    "        \n",
    "# Класс терминального узла (листа)\n",
    "class Leaf:\n",
    "    \n",
    "    def __init__(self, data, labels):\n",
    "        self.data = data\n",
    "        self.labels = labels  # y_true\n",
    "        self.prediction = self.predict()  # y_pred\n",
    "        \n",
    "    def predict(self):\n",
    "        # подсчет количества объектов разных классов\n",
    "        classes = {}  # сформируем словарь \"класс: количество объектов\"\n",
    "        for label in self.labels:\n",
    "            if label not in classes:\n",
    "                classes[label] = 0\n",
    "            classes[label] += 1\n",
    "        #  найдем класс, количество объектов которого будет максимальным в этом листе и вернем его    \n",
    "        prediction = max(classes, key=classes.get)\n",
    "        return prediction"
   ]
  },
  {
   "cell_type": "code",
   "execution_count": 3,
   "metadata": {},
   "outputs": [],
   "source": [
    "# Расчет критерия Джини\n",
    "def gini(labels):\n",
    "    #  подсчет количества объектов разных классов\n",
    "    classes = {}\n",
    "    for label in labels:\n",
    "        if label not in classes:\n",
    "            classes[label] = 0\n",
    "        classes[label] += 1\n",
    "    \n",
    "    #  расчет критерия\n",
    "    impurity = 1     # \"impurity\" - \"нечистота\", степень неопределенности\n",
    "    for label in classes:\n",
    "        p = classes[label] / len(labels)\n",
    "        impurity -= p ** 2\n",
    "        \n",
    "    return impurity"
   ]
  },
  {
   "cell_type": "code",
   "execution_count": 4,
   "metadata": {},
   "outputs": [],
   "source": [
    "# Расчет качества\n",
    "def quality(left_labels, right_labels, current_gini):\n",
    "\n",
    "    # доля выборки, ушедшей в левое поддерево\n",
    "    p = float(left_labels.shape[0]) / (left_labels.shape[0] + right_labels.shape[0]) # для правого (1-p)\n",
    "    \n",
    "    return current_gini - p * gini(left_labels) - (1 - p) * gini(right_labels)"
   ]
  },
  {
   "cell_type": "code",
   "execution_count": 5,
   "metadata": {},
   "outputs": [],
   "source": [
    "# Разбиение датасета в узле\n",
    "def split(data, labels, index, t):\n",
    "    \n",
    "    left = np.where(data[:, index] <= t)\n",
    "    right = np.where(data[:, index] > t)\n",
    "        \n",
    "    true_data = data[left]\n",
    "    false_data = data[right]\n",
    "    true_labels = labels[left]\n",
    "    false_labels = labels[right]\n",
    "        \n",
    "    return true_data, false_data, true_labels, false_labels"
   ]
  },
  {
   "cell_type": "code",
   "execution_count": 6,
   "metadata": {},
   "outputs": [],
   "source": [
    "# Нахождение наилучшего разбиения\n",
    "def find_best_split(data, labels):\n",
    "    \n",
    "    #  обозначим минимальное количество объектов в узле\n",
    "    min_leaf = 5\n",
    "\n",
    "    current_gini = gini(labels)\n",
    "\n",
    "    best_quality = 0\n",
    "    best_t = None\n",
    "    best_index = None\n",
    "    \n",
    "    n_features = data.shape[1]\n",
    "    \n",
    "    for index in range(n_features):\n",
    "        t_values = [row[index] for row in data]\n",
    "        \n",
    "        for t in t_values:\n",
    "            true_data, false_data, true_labels, false_labels = split(data, labels, index, t)\n",
    "            #  пропускаем разбиения, в которых в узле остается менее 5 объектов\n",
    "            if len(true_data) < min_leaf or len(false_data) < min_leaf:\n",
    "                continue\n",
    "            \n",
    "            current_quality = quality(true_labels, false_labels, current_gini)\n",
    "            \n",
    "            #  выбираем порог, на котором получается максимальный прирост качества\n",
    "            if current_quality > best_quality:\n",
    "                best_quality, best_t, best_index = current_quality, t, index\n",
    "\n",
    "    return best_quality, best_t, best_index"
   ]
  },
  {
   "cell_type": "markdown",
   "metadata": {},
   "source": [
    "### 1. В коде из методички реализуйте один или несколько из критериев останова (количество листьев, количество используемых признаков, глубина дерева и т.д.)"
   ]
  },
  {
   "cell_type": "markdown",
   "metadata": {},
   "source": [
    "#### Решение:"
   ]
  },
  {
   "cell_type": "code",
   "execution_count": 7,
   "metadata": {},
   "outputs": [],
   "source": [
    "leaf_count = 0\n",
    "level = 0\n",
    "\n",
    "# Построение дерева с помощью рекурсивной функции\n",
    "def build_tree(data, labels, leaf_limit=2 ** 32, level_limit=2 ** 32):\n",
    "    global leaf_count, level\n",
    "    \n",
    "    quality, t, index = find_best_split(data, labels)    \n",
    "\n",
    "    if quality == 0 or leaf_count + 1 == leaf_limit or level == level_limit or all(l == labels[0] for l in labels):        \n",
    "        return Leaf(data, labels)\n",
    "        \n",
    "    true_data, false_data, true_labels, false_labels = split(data, labels, index, t)\n",
    "\n",
    "    # Рекурсивно строим два поддерева\n",
    "    level += 1    \n",
    "    \n",
    "    leaf_count += 1   \n",
    "    true_branch = build_tree(true_data, true_labels, leaf_limit, level_limit)    \n",
    "    leaf_count += 1 \n",
    "    false_branch = build_tree(false_data, false_labels, leaf_limit, level_limit)\n",
    "    \n",
    "    # Возвращаем класс узла со всеми поддеревьями, то есть целого дерева\n",
    "    return Node(index, t, true_branch, false_branch)"
   ]
  },
  {
   "cell_type": "markdown",
   "metadata": {},
   "source": [
    "#### Тестирование:"
   ]
  },
  {
   "cell_type": "code",
   "execution_count": 8,
   "metadata": {},
   "outputs": [],
   "source": [
    "# сгенерируем данные\n",
    "classification_data, classification_labels = datasets.make_classification(n_features = 2, n_informative = 2, \n",
    "                                                      n_classes = 2, n_redundant=0, \n",
    "                                                      n_clusters_per_class=1, random_state=5)\n",
    "\n",
    "train_data, test_data, train_labels, test_labels = model_selection.train_test_split(classification_data, \n",
    "                                                                                     classification_labels, \n",
    "                                                                                     test_size = 0.3,\n",
    "                                                                                     random_state = 1)\n",
    "\n",
    "# Построим дерево по обучающей выборке\n",
    "my_tree = build_tree(train_data, train_labels, \n",
    "                     leaf_limit=4, \n",
    "                     level_limit=3)"
   ]
  },
  {
   "cell_type": "markdown",
   "metadata": {},
   "source": [
    "#### Проверка:"
   ]
  },
  {
   "cell_type": "code",
   "execution_count": 9,
   "metadata": {},
   "outputs": [
    {
     "data": {
      "image/svg+xml": [
       "<?xml version=\"1.0\" encoding=\"UTF-8\" standalone=\"no\"?>\r\n",
       "<!DOCTYPE svg PUBLIC \"-//W3C//DTD SVG 1.1//EN\"\r\n",
       " \"http://www.w3.org/Graphics/SVG/1.1/DTD/svg11.dtd\">\r\n",
       "<!-- Generated by graphviz version 2.38.0 (20140413.2041)\r\n",
       " -->\r\n",
       "<!-- Title: %3 Pages: 1 -->\r\n",
       "<svg width=\"296pt\" height=\"268pt\"\r\n",
       " viewBox=\"0.00 0.00 296.00 268.00\" xmlns=\"http://www.w3.org/2000/svg\" xmlns:xlink=\"http://www.w3.org/1999/xlink\">\r\n",
       "<g id=\"graph0\" class=\"graph\" transform=\"scale(1 1) rotate(0) translate(4 264)\">\r\n",
       "<title>%3</title>\r\n",
       "<polygon fill=\"white\" stroke=\"none\" points=\"-4,4 -4,-264 292,-264 292,4 -4,4\"/>\r\n",
       "<!-- 0.16261402870113306 -->\r\n",
       "<g id=\"node1\" class=\"node\"><title>0.16261402870113306</title>\r\n",
       "<polygon fill=\"none\" stroke=\"black\" points=\"238,-260 152,-260 152,-222 238,-222 238,-260\"/>\r\n",
       "<text text-anchor=\"middle\" x=\"195\" y=\"-244.8\" font-family=\"Times New Roman,serif\" font-size=\"14.00\">Признак: 0</text>\r\n",
       "<text text-anchor=\"middle\" x=\"195\" y=\"-229.8\" font-family=\"Times New Roman,serif\" font-size=\"14.00\">Порог: 0.16</text>\r\n",
       "</g>\r\n",
       "<!-- &#45;1.5208896621663803 -->\r\n",
       "<g id=\"node2\" class=\"node\"><title>&#45;1.5208896621663803</title>\r\n",
       "<polygon fill=\"none\" stroke=\"black\" points=\"188,-186 98,-186 98,-148 188,-148 188,-186\"/>\r\n",
       "<text text-anchor=\"middle\" x=\"143\" y=\"-170.8\" font-family=\"Times New Roman,serif\" font-size=\"14.00\">Признак: 1</text>\r\n",
       "<text text-anchor=\"middle\" x=\"143\" y=\"-155.8\" font-family=\"Times New Roman,serif\" font-size=\"14.00\">Порог: &#45;1.52</text>\r\n",
       "</g>\r\n",
       "<!-- 0.16261402870113306&#45;&gt;&#45;1.5208896621663803 -->\r\n",
       "<g id=\"edge1\" class=\"edge\"><title>0.16261402870113306&#45;&gt;&#45;1.5208896621663803</title>\r\n",
       "<path fill=\"none\" stroke=\"black\" d=\"M181.878,-221.831C175.95,-213.623 168.827,-203.761 162.307,-194.732\"/>\r\n",
       "<polygon fill=\"black\" stroke=\"black\" points=\"164.991,-192.471 156.298,-186.413 159.316,-196.569 164.991,-192.471\"/>\r\n",
       "</g>\r\n",
       "<!-- leaf 3 -->\r\n",
       "<g id=\"node7\" class=\"node\"><title>leaf 3</title>\r\n",
       "<polygon fill=\"none\" stroke=\"black\" points=\"288,-186 206,-186 206,-148 288,-148 288,-186\"/>\r\n",
       "<text text-anchor=\"middle\" x=\"247\" y=\"-170.8\" font-family=\"Times New Roman,serif\" font-size=\"14.00\">leaf 3</text>\r\n",
       "<text text-anchor=\"middle\" x=\"247\" y=\"-155.8\" font-family=\"Times New Roman,serif\" font-size=\"14.00\">Прогноз: 1</text>\r\n",
       "</g>\r\n",
       "<!-- 0.16261402870113306&#45;&gt;leaf 3 -->\r\n",
       "<g id=\"edge6\" class=\"edge\"><title>0.16261402870113306&#45;&gt;leaf 3</title>\r\n",
       "<path fill=\"none\" stroke=\"black\" d=\"M208.122,-221.831C214.05,-213.623 221.173,-203.761 227.693,-194.732\"/>\r\n",
       "<polygon fill=\"black\" stroke=\"black\" points=\"230.684,-196.569 233.702,-186.413 225.009,-192.471 230.684,-196.569\"/>\r\n",
       "</g>\r\n",
       "<!-- &#45;0.9478301462477035 -->\r\n",
       "<g id=\"node3\" class=\"node\"><title>&#45;0.9478301462477035</title>\r\n",
       "<polygon fill=\"none\" stroke=\"black\" points=\"136,-112 46,-112 46,-74 136,-74 136,-112\"/>\r\n",
       "<text text-anchor=\"middle\" x=\"91\" y=\"-96.8\" font-family=\"Times New Roman,serif\" font-size=\"14.00\">Признак: 0</text>\r\n",
       "<text text-anchor=\"middle\" x=\"91\" y=\"-81.8\" font-family=\"Times New Roman,serif\" font-size=\"14.00\">Порог: &#45;0.95</text>\r\n",
       "</g>\r\n",
       "<!-- &#45;1.5208896621663803&#45;&gt;&#45;0.9478301462477035 -->\r\n",
       "<g id=\"edge2\" class=\"edge\"><title>&#45;1.5208896621663803&#45;&gt;&#45;0.9478301462477035</title>\r\n",
       "<path fill=\"none\" stroke=\"black\" d=\"M129.878,-147.831C123.95,-139.623 116.827,-129.761 110.307,-120.732\"/>\r\n",
       "<polygon fill=\"black\" stroke=\"black\" points=\"112.991,-118.471 104.298,-112.413 107.316,-122.569 112.991,-118.471\"/>\r\n",
       "</g>\r\n",
       "<!-- leaf 2 -->\r\n",
       "<g id=\"node6\" class=\"node\"><title>leaf 2</title>\r\n",
       "<polygon fill=\"none\" stroke=\"black\" points=\"236,-112 154,-112 154,-74 236,-74 236,-112\"/>\r\n",
       "<text text-anchor=\"middle\" x=\"195\" y=\"-96.8\" font-family=\"Times New Roman,serif\" font-size=\"14.00\">leaf 2</text>\r\n",
       "<text text-anchor=\"middle\" x=\"195\" y=\"-81.8\" font-family=\"Times New Roman,serif\" font-size=\"14.00\">Прогноз: 0</text>\r\n",
       "</g>\r\n",
       "<!-- &#45;1.5208896621663803&#45;&gt;leaf 2 -->\r\n",
       "<g id=\"edge5\" class=\"edge\"><title>&#45;1.5208896621663803&#45;&gt;leaf 2</title>\r\n",
       "<path fill=\"none\" stroke=\"black\" d=\"M156.122,-147.831C162.05,-139.623 169.173,-129.761 175.693,-120.732\"/>\r\n",
       "<polygon fill=\"black\" stroke=\"black\" points=\"178.684,-122.569 181.702,-112.413 173.009,-118.471 178.684,-122.569\"/>\r\n",
       "</g>\r\n",
       "<!-- leaf 0 -->\r\n",
       "<g id=\"node4\" class=\"node\"><title>leaf 0</title>\r\n",
       "<polygon fill=\"none\" stroke=\"black\" points=\"82,-38 0,-38 0,-0 82,-0 82,-38\"/>\r\n",
       "<text text-anchor=\"middle\" x=\"41\" y=\"-22.8\" font-family=\"Times New Roman,serif\" font-size=\"14.00\">leaf 0</text>\r\n",
       "<text text-anchor=\"middle\" x=\"41\" y=\"-7.8\" font-family=\"Times New Roman,serif\" font-size=\"14.00\">Прогноз: 0</text>\r\n",
       "</g>\r\n",
       "<!-- &#45;0.9478301462477035&#45;&gt;leaf 0 -->\r\n",
       "<g id=\"edge3\" class=\"edge\"><title>&#45;0.9478301462477035&#45;&gt;leaf 0</title>\r\n",
       "<path fill=\"none\" stroke=\"black\" d=\"M78.3829,-73.8314C72.6828,-65.6232 65.8337,-55.7606 59.5641,-46.7323\"/>\r\n",
       "<polygon fill=\"black\" stroke=\"black\" points=\"62.3658,-44.6306 53.787,-38.4133 56.6162,-48.6234 62.3658,-44.6306\"/>\r\n",
       "</g>\r\n",
       "<!-- leaf 1 -->\r\n",
       "<g id=\"node5\" class=\"node\"><title>leaf 1</title>\r\n",
       "<polygon fill=\"none\" stroke=\"black\" points=\"182,-38 100,-38 100,-0 182,-0 182,-38\"/>\r\n",
       "<text text-anchor=\"middle\" x=\"141\" y=\"-22.8\" font-family=\"Times New Roman,serif\" font-size=\"14.00\">leaf 1</text>\r\n",
       "<text text-anchor=\"middle\" x=\"141\" y=\"-7.8\" font-family=\"Times New Roman,serif\" font-size=\"14.00\">Прогноз: 1</text>\r\n",
       "</g>\r\n",
       "<!-- &#45;0.9478301462477035&#45;&gt;leaf 1 -->\r\n",
       "<g id=\"edge4\" class=\"edge\"><title>&#45;0.9478301462477035&#45;&gt;leaf 1</title>\r\n",
       "<path fill=\"none\" stroke=\"black\" d=\"M103.617,-73.8314C109.317,-65.6232 116.166,-55.7606 122.436,-46.7323\"/>\r\n",
       "<polygon fill=\"black\" stroke=\"black\" points=\"125.384,-48.6234 128.213,-38.4133 119.634,-44.6306 125.384,-48.6234\"/>\r\n",
       "</g>\r\n",
       "</g>\r\n",
       "</svg>\r\n"
      ],
      "text/plain": [
       "<graphviz.dot.Digraph at 0x1a9f3c1bbc8>"
      ]
     },
     "execution_count": 9,
     "metadata": {},
     "output_type": "execute_result"
    }
   ],
   "source": [
    "leaf_count = 0\n",
    "\n",
    "# Напечатаем структуру нашего дерева\n",
    "def print_tree(node, prev_node):\n",
    "    global leaf_count\n",
    "    \n",
    "    # Если лист, то выводим его прогноз\n",
    "    if isinstance(node, Leaf):\n",
    "        dot.node(f'leaf {leaf_count}', label=f'leaf {leaf_count}\\nПрогноз: {node.prediction}')        \n",
    "        dot.edge(str(prev_node.t), f'leaf {leaf_count}')\n",
    "        leaf_count += 1\n",
    "        return\n",
    "\n",
    "    # Рекурсионный вызов функции на положительном поддереве\n",
    "    dot.node(str(node.t), label=str(node))\n",
    "    if prev_node is not None:\n",
    "        dot.edge(str(prev_node.t), str(node.t))\n",
    "        \n",
    "    print_tree(node.true_branch, node)\n",
    "\n",
    "    # Рекурсионный вызов функции на отрицательном поддереве\n",
    "    dot.node(str(node.t), label=str(node))\n",
    "    print_tree(node.false_branch, node)\n",
    "\n",
    "dot = Digraph(node_attr={'shape': 'box'})    \n",
    "print_tree(my_tree, None)   \n",
    "dot  "
   ]
  },
  {
   "cell_type": "markdown",
   "metadata": {},
   "source": [
    "### 2*.  Реализуйте дерево для задачи регрессии. Возьмите за основу дерево, реализованное в методичке, заменив механизм предсказания в листе на взятие среднего значения по выборке, и критерий Джини на дисперсию значений."
   ]
  },
  {
   "cell_type": "code",
   "execution_count": 10,
   "metadata": {},
   "outputs": [],
   "source": [
    "# Проход объекта по дереву для предсказания его значения\n",
    "def predict_object_value(obj, node):\n",
    "\n",
    "    #  Останавливаем рекурсию, если достигли листа\n",
    "    if isinstance(node, Leaf):\n",
    "        answer = sum(node.labels) / len(node.data) \n",
    "        return answer\n",
    "\n",
    "    if obj[node.index] <= node.t:\n",
    "        return predict_object_value(obj, node.true_branch)\n",
    "    else:\n",
    "        return predict_object_value(obj, node.false_branch)\n",
    "\n",
    "# Предсказание деревом для всего датасета\n",
    "def predict(data, tree):\n",
    "    \n",
    "    values = []\n",
    "    for obj in data:\n",
    "        prediction = predict_object_value(obj, tree)\n",
    "        values.append(prediction)\n",
    "    return values"
   ]
  },
  {
   "cell_type": "code",
   "execution_count": 11,
   "metadata": {},
   "outputs": [
    {
     "name": "stdout",
     "output_type": "stream",
     "text": [
      "predicted\ttrue\n",
      "1.000\t\t1\n",
      "1.000\t\t1\n",
      "0.000\t\t0\n",
      "1.000\t\t1\n",
      "0.000\t\t0\n",
      "0.000\t\t0\n",
      "0.000\t\t0\n",
      "0.000\t\t0\n",
      "1.000\t\t1\n",
      "1.000\t\t1\n",
      "0.000\t\t0\n",
      "1.000\t\t1\n",
      "0.000\t\t0\n",
      "1.000\t\t1\n",
      "0.000\t\t0\n",
      "0.000\t\t0\n",
      "0.000\t\t0\n",
      "1.000\t\t1\n",
      "0.000\t\t0\n",
      "1.000\t\t1\n",
      "1.000\t\t1\n",
      "1.000\t\t1\n",
      "1.000\t\t1\n",
      "1.000\t\t1\n",
      "1.000\t\t1\n",
      "0.000\t\t0\n",
      "0.000\t\t0\n",
      "0.000\t\t0\n",
      "0.833\t\t1\n",
      "0.000\t\t0\n"
     ]
    }
   ],
   "source": [
    "answers = predict(test_data, my_tree)\n",
    "\n",
    "print('predicted\\ttrue')\n",
    "for i in range(len(test_data)):\n",
    "    print(f'{answers[i]:.3f}\\t\\t{test_labels[i]}') "
   ]
  },
  {
   "cell_type": "code",
   "execution_count": 12,
   "metadata": {},
   "outputs": [
    {
     "data": {
      "text/plain": [
       "array([[ 1.1783791 , -0.99569562],\n",
       "       [ 0.78628291, -1.46538379],\n",
       "       [-1.00409969, -0.30384789],\n",
       "       [ 0.80181576, -0.89476163],\n",
       "       [-1.12983001, -1.00670594],\n",
       "       [-0.18074965,  0.12120859],\n",
       "       [-1.28606042, -1.42076007],\n",
       "       [-1.09893956, -2.45380027],\n",
       "       [ 1.40603029, -0.5939222 ],\n",
       "       [ 3.58506475,  0.46132916],\n",
       "       [-0.77230204, -0.06527799],\n",
       "       [ 0.44598558, -1.38661615],\n",
       "       [-0.43167485, -0.42207294],\n",
       "       [ 2.68010925, -0.32159682],\n",
       "       [-1.13987431, -0.86210383],\n",
       "       [-2.11651888, -2.65004766],\n",
       "       [-1.05172963, -0.26699935],\n",
       "       [ 1.30117175, -0.88190168],\n",
       "       [-0.45352977,  0.21904722],\n",
       "       [ 1.24936047, -0.71891837],\n",
       "       [ 0.88378869, -0.92475428],\n",
       "       [ 1.08215874, -1.22856774],\n",
       "       [ 0.83033804, -1.04064708],\n",
       "       [ 2.83870427, -0.07035103],\n",
       "       [ 0.512618  , -0.60786361],\n",
       "       [-1.76598659, -2.71709016],\n",
       "       [-0.19852893,  0.65355092],\n",
       "       [-0.62365955, -0.92164859],\n",
       "       [-0.75386568, -2.25796056],\n",
       "       [-2.15300462, -2.6885842 ]])"
      ]
     },
     "execution_count": 12,
     "metadata": {},
     "output_type": "execute_result"
    }
   ],
   "source": [
    "test_data"
   ]
  },
  {
   "cell_type": "code",
   "execution_count": 13,
   "metadata": {},
   "outputs": [],
   "source": [
    "# Расчет дисперсии\n",
    "def dispersion(labels):\n",
    "    #  расчет среднего значения\n",
    "    aver = sum(labels) / len(labels)\n",
    "       \n",
    "    return sum(map(lambda l: (aver - l) ** 2, labels)) / len(labels)"
   ]
  }
 ],
 "metadata": {
  "kernelspec": {
   "display_name": "Python 3",
   "language": "python",
   "name": "python3"
  },
  "language_info": {
   "codemirror_mode": {
    "name": "ipython",
    "version": 3
   },
   "file_extension": ".py",
   "mimetype": "text/x-python",
   "name": "python",
   "nbconvert_exporter": "python",
   "pygments_lexer": "ipython3",
   "version": "3.7.6"
  }
 },
 "nbformat": 4,
 "nbformat_minor": 4
}
