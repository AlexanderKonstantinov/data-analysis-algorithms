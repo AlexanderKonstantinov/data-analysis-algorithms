{
 "cells": [
  {
   "cell_type": "code",
   "execution_count": 1,
   "metadata": {},
   "outputs": [],
   "source": [
    "import numpy as np\n",
    "import matplotlib.pyplot as plt"
   ]
  },
  {
   "cell_type": "markdown",
   "metadata": {},
   "source": [
    "# Урок 1. Алгоритм линейной регрессии. Градиентный спуск."
   ]
  },
  {
   "cell_type": "code",
   "execution_count": 2,
   "metadata": {},
   "outputs": [],
   "source": [
    "def calc_mse(y, y_pred):\n",
    "    err = np.mean((y - y_pred)**2) # <=> 1/n * np.sum((y_pred - y)**2)\n",
    "    return err"
   ]
  },
  {
   "cell_type": "code",
   "execution_count": 3,
   "metadata": {},
   "outputs": [],
   "source": [
    "X = np.array([[1, 1, 1, 1, 1, 1, 1, 1, 1, 1],\n",
    "              [1, 1, 2, 5, 3, 0, 5, 10, 1, 2]])\n",
    "\n",
    "y = [45, 55, 50, 55, 60, 35, 75, 80, 50, 60]"
   ]
  },
  {
   "cell_type": "code",
   "execution_count": 29,
   "metadata": {},
   "outputs": [],
   "source": [
    "class GradientDescentParams:\n",
    "    n: int\n",
    "    alpha: float\n",
    "    precision: float    \n",
    "    w_start: list\n",
    "        \n",
    "    x = None\n",
    "    y = None\n",
    "    \n",
    "    def __init__(self, n: int, alpha: float, precision: float, w_start: list, x, y):\n",
    "        self.n = n\n",
    "        self.alpha = alpha\n",
    "        self.precision = precision\n",
    "        self.w_start = w_start\n",
    "        \n",
    "        self.x = x\n",
    "        self.y = y\n",
    "    \n",
    "    def __str__(self):\n",
    "     return f'''\n",
    "Number of objects = {self.n}\n",
    "Learning rate = {self.alpha}\n",
    "Precision = {self.precision}\n",
    "Initial weights = {self.w_start}\n",
    "     '''\n",
    "\n",
    "class GradientDescentSolution:\n",
    "    params: GradientDescentParams\n",
    "        \n",
    "    iteration: int\n",
    "    prev_sol = None        \n",
    "    w = None\n",
    "    mse = float\n",
    "    \n",
    "    @property\n",
    "    def mse_dif(self):\n",
    "        return float('inf') if self.mse is None or self.prev_sol is None else self.prev_sol.mse - self.mse \n",
    "    \n",
    "    def __init__(self, params, prev_solution): \n",
    "        self.params = params\n",
    "        self.w = np.array(params.w_start)\n",
    "        self.prev_sol = prev_solution\n",
    "        \n",
    "    def calc(self, iteration):\n",
    "        self.iteration = iteration\n",
    "        \n",
    "        y_pred = np.dot(self.prev_sol.w, self.params.x)\n",
    "        self.mse = calc_mse(self.params.y, y_pred)\n",
    "        \n",
    "        for k in range(self.w.shape[0]):\n",
    "            self.w[k] = self.prev_sol.w[k] - self.params.alpha * (1/self.params.n * 2 * np.sum(self.params.x[k] * (y_pred - self.params.y)))\n",
    "        \n",
    "    def __str__(self):\n",
    "        return f'Iteration #{self.iteration}: W_new = {self.w}, MSE = {self.mse:.8f}, MSE_dif = {self.mse_dif:.8f}, alpha = {self.params.alpha}'"
   ]
  },
  {
   "cell_type": "markdown",
   "metadata": {},
   "source": [
    "### *3. Реализовать алгоритм градиентного спуска с оценкой  изменения ошибки\n",
    "#### Решение:"
   ]
  },
  {
   "cell_type": "code",
   "execution_count": 31,
   "metadata": {},
   "outputs": [
    {
     "name": "stdout",
     "output_type": "stream",
     "text": [
      "\n",
      "Number of objects = 10\n",
      "Learning rate = 0.01\n",
      "Precision = 1e-08\n",
      "Initial weights = [1, 0.5]\n",
      "     \n",
      "Iteration #0: W_new = [2.08 4.27], MSE = 3047.75000000, MSE_dif = inf, alpha = 0.00909090909090909\n",
      "Iteration #1000: W_new = [28.34503796  6.84395399], MSE = 175.59828517, MSE_dif = 0.00017422, alpha = 6.596883263771043e-07\n",
      "Iteration #2000: W_new = [28.3461442   6.84375339], MSE = 175.58069107, MSE_dif = 0.00000001, alpha = 4.7870755675404694e-11\n",
      "\n",
      "Iteration #2021: W_new = [28.34614421  6.84375339], MSE = 175.58069084, MSE_dif = 0.00000001, alpha = 3.956260799620222e-11\n",
      "Iteration #2022: W_new = [28.34614421  6.84375339], MSE = 175.58069083, MSE_dif = 0.00000001, alpha = 3.956260799620222e-11\n"
     ]
    }
   ],
   "source": [
    "params = GradientDescentParams(\n",
    "    n=X.shape[1], \n",
    "    alpha=1e-2, \n",
    "    precision=1e-8,\n",
    "    w_start=[1, 0.5],\n",
    "    x=X,\n",
    "    y=y)\n",
    "\n",
    "print(params)\n",
    "\n",
    "prev_solution = GradientDescentSolution(params, None)\n",
    "prev_solution.mse = float('inf')\n",
    "\n",
    "i = 0\n",
    "while prev_solution.mse_dif > params.precision:  \n",
    "    solution = GradientDescentSolution(params, prev_solution)\n",
    "    solution.calc(i)\n",
    "    \n",
    "    if i % 10 == 0:\n",
    "        params.alpha /= 1.1\n",
    "    \n",
    "    if i % 1000 == 0:\n",
    "        print(solution)\n",
    "        \n",
    "    prev_solution = solution    \n",
    "    i += 1\n",
    "    \n",
    "print()\n",
    "print(solution.prev_sol)\n",
    "print(solution)"
   ]
  },
  {
   "cell_type": "markdown",
   "metadata": {},
   "source": [
    "### 1. Подберите скорость обучения (alpha) и количество итераций\n",
    "#### Решение:"
   ]
  },
  {
   "cell_type": "code",
   "execution_count": 36,
   "metadata": {
    "scrolled": true
   },
   "outputs": [
    {
     "name": "stdout",
     "output_type": "stream",
     "text": [
      "alpha delimeter\titeration count\terror dif\n",
      "0.1\t\t3\t\t-4697.758224000003\n",
      "0.2\t\t13\t\t-63.543398638761744\n",
      "0.3\t\t25\t\t-1833.7582452197091\n",
      "0.4\t\t33\t\t-28.309393925980046\n",
      "0.5\t\t40\t\t-0.2976526020436481\n",
      "0.6\t\t60\t\t-1.2493487834670773\n",
      "0.7\t\t80\t\t-0.558135672144175\n",
      "0.8\t\t116\t\t-0.06724770130180957\n",
      "0.9\t\t217\t\t-9.706215440985488e-05\n",
      "1.0\t\t1156\t\t9.92775994745898e-09\n",
      "1.1\t\t2023\t\t9.497370001554373e-09\n",
      "1.2\t\t1103\t\t9.731365935294889e-09\n",
      "1.3\t\t783\t\t8.092513326118933e-09\n",
      "1.4\t\t613\t\t8.238544069172349e-09\n",
      "1.5\t\t513\t\t7.223206921480596e-09\n",
      "1.6\t\t443\t\t7.188191375462338e-09\n",
      "1.7\t\t393\t\t6.972527444304433e-09\n",
      "1.8\t\t353\t\t7.711605576332659e-09\n",
      "1.9\t\t323\t\t7.810285751475021e-09\n"
     ]
    }
   ],
   "source": [
    "factors = np.arange(0.1, 2, 0.1)\n",
    "iteration_counts = []\n",
    "\n",
    "print('alpha delimeter\\titeration count\\terror dif')\n",
    "\n",
    "for factor in factors:\n",
    "    \n",
    "    params = GradientDescentParams(\n",
    "    n=X.shape[1], \n",
    "    alpha=1e-2, \n",
    "    precision=1e-8,\n",
    "    w_start=[1, 0.5],\n",
    "    x=X,\n",
    "    y=y)    \n",
    "    \n",
    "    prev_solution = GradientDescentSolution(params, None)\n",
    "    prev_solution.mse = float('inf')\n",
    "\n",
    "    i = 0\n",
    "    while prev_solution.mse_dif > params.precision:  \n",
    "        solution = GradientDescentSolution(params, prev_solution)\n",
    "        solution.calc(i)\n",
    "\n",
    "        prev_solution = solution\n",
    "        \n",
    "        if i % 10 == 0:\n",
    "            params.alpha /= factor\n",
    "            \n",
    "        i += 1\n",
    "        \n",
    "    iteration_counts.append(i)\n",
    "    print(f'{factor:.1f}\\t\\t{i}\\t\\t{solution.mse_dif}')"
   ]
  },
  {
   "cell_type": "markdown",
   "metadata": {},
   "source": [
    "#### Для данных условий лучше делителем alpha будет 1.7"
   ]
  },
  {
   "cell_type": "code",
   "execution_count": 37,
   "metadata": {},
   "outputs": [
    {
     "data": {
      "image/png": "[encoded data removed]",
      "text/plain": [
       "<Figure size 432x288 with 1 Axes>"
      ]
     },
     "metadata": {
      "needs_background": "light"
     },
     "output_type": "display_data"
    }
   ],
   "source": [
    "plt.scatter(factors, iteration_counts);"
   ]
  },
  {
   "cell_type": "markdown",
   "metadata": {},
   "source": [
    "### *2. В этом коде мы избавляемся от итераций по весам, но тут есть ошибка, исправьте ее\n",
    "#### Решение:"
   ]
  },
  {
   "cell_type": "code",
   "execution_count": 8,
   "metadata": {},
   "outputs": [
    {
     "name": "stdout",
     "output_type": "stream",
     "text": [
      "Number of objects = 10        \n",
      "Learning rate = 0.01        \n",
      "Initial weights = [1.  0.5] \n",
      "\n",
      "Iteration #0: W_new = [2.08 4.27], MSE = 3047.75\n",
      "Iteration #10: W_new = [ 7.0011236 10.6169007], MSE = 738.65\n",
      "Iteration #20: W_new = [10.3486292  10.10603105], MSE = 622.03\n",
      "Iteration #30: W_new = [13.38789582  9.55618391], MSE = 525.24\n",
      "Iteration #40: W_new = [16.16088505  9.05336203], MSE = 444.66\n",
      "Iteration #50: W_new = [18.69110735  8.59454545], MSE = 377.58\n",
      "Iteration #60: W_new = [20.99981865  8.17589626], MSE = 321.72\n",
      "Iteration #70: W_new = [23.10641138  7.79389815], MSE = 275.22\n",
      "Iteration #80: W_new = [25.02858024  7.44534246], MSE = 236.5\n",
      "Iteration #90: W_new = [26.78247081  7.12730145], MSE = 204.27\n"
     ]
    }
   ],
   "source": [
    "n = X.shape[1]\n",
    "alpha = 1e-2\n",
    "W = np.array([1, 0.5])\n",
    "print(f'Number of objects = {n} \\\n",
    "       \\nLearning rate = {alpha} \\\n",
    "       \\nInitial weights = {W} \\n')\n",
    "\n",
    "for i in range(100):\n",
    "    y_pred = np.dot(W, X)\n",
    "    err = calc_mse(y, y_pred)\n",
    "#     for k in range(W.shape[0]):\n",
    "#         W[k] -= alpha * (1/n * 2 * np.sum(X[k] * (y_pred - y)))\n",
    "\n",
    "    sum_list = list((map(sum, X * (y_pred - y))))\n",
    "    W -= alpha * (1/n * 2 * np.array(sum_list))\n",
    "    \n",
    "    W_pred = W\n",
    "    if i % 10 == 0:\n",
    "        print(f'Iteration #{i}: W_new = {W}, MSE = {round(err,2)}')"
   ]
  }
 ],
 "metadata": {
  "kernelspec": {
   "display_name": "Python 3",
   "language": "python",
   "name": "python3"
  },
  "language_info": {
   "codemirror_mode": {
    "name": "ipython",
    "version": 3
   },
   "file_extension": ".py",
   "mimetype": "text/x-python",
   "name": "python",
   "nbconvert_exporter": "python",
   "pygments_lexer": "ipython3",
   "version": "3.7.6"
  }
 },
 "nbformat": 4,
 "nbformat_minor": 4
}
